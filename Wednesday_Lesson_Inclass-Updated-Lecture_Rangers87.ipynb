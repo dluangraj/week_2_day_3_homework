{
 "cells": [
  {
   "cell_type": "markdown",
   "metadata": {},
   "source": [
    "# Dictionaries, Sets, & Importing Modules"
   ]
  },
  {
   "cell_type": "markdown",
   "metadata": {},
   "source": [
    "## Tasks Today:\n",
    "\n",
    "1) Dictionary <br>\n",
    " &nbsp;&nbsp;&nbsp;&nbsp; a) Declaring (key, value) <br>\n",
    " &nbsp;&nbsp;&nbsp;&nbsp; b) Accessing Values <br>\n",
    " &nbsp;&nbsp;&nbsp;&nbsp; ------ Exercise #1 - Print the eye color of each person in a double nested dict <br>\n",
    " &nbsp;&nbsp;&nbsp;&nbsp; c) Adding New Pairs <br>\n",
    " &nbsp;&nbsp;&nbsp;&nbsp; d) Modifying Values <br>\n",
    " &nbsp;&nbsp;&nbsp;&nbsp; e) Removing Key, Value Pairs <br>\n",
    " &nbsp;&nbsp;&nbsp;&nbsp; f) Looping a Dictionary <br>\n",
    " &nbsp;&nbsp;&nbsp;&nbsp; g) Looping Only Keys <br>\n",
    " &nbsp;&nbsp;&nbsp;&nbsp; h) Looping Only Values <br>\n",
    " &nbsp;&nbsp;&nbsp;&nbsp; ------ Exercise #2 - Create a Function that Prints All Key Value Pairs within a print .format()  <br>\n",
    " &nbsp;&nbsp;&nbsp;&nbsp; i) sorted() <br>\n",
    " &nbsp;&nbsp;&nbsp;&nbsp; j) Lists with Dictionaries <br>\n",
    " &nbsp;&nbsp;&nbsp;&nbsp; k) Dictionaries with Lists <br>\n",
    " &nbsp;&nbsp;&nbsp;&nbsp; l) Dictionaries with Dictionaries <br>\n",
    " &nbsp;&nbsp;&nbsp;&nbsp; ------ Exercise #3 - Write a Function that asks someone's name and address, and then stores that into a dictionary, which prints all names and addresses after they're done putting information in...  <br>\n",
    "2) Dictionaries vs. Lists (over time)<br>\n",
    "3) Set <br>\n",
    " &nbsp;&nbsp;&nbsp;&nbsp; a) Declaring <br>\n",
    " &nbsp;&nbsp;&nbsp;&nbsp; b) .add() <br>\n",
    " &nbsp;&nbsp;&nbsp;&nbsp; c) .remove() <br>\n",
    " &nbsp;&nbsp;&nbsp;&nbsp; d) .union() <br>\n",
    " &nbsp;&nbsp;&nbsp;&nbsp; e) .intersection() <br>\n",
    " &nbsp;&nbsp;&nbsp;&nbsp; f) .difference() <br>\n",
    " &nbsp;&nbsp;&nbsp;&nbsp; g) Frozen Set <br>\n",
    "4) Modules <br>\n",
    " &nbsp;&nbsp;&nbsp;&nbsp; a) Importing Entire Modules <br>\n",
    " &nbsp;&nbsp;&nbsp;&nbsp; b) Importing Methods Only <br>\n",
    " &nbsp;&nbsp;&nbsp;&nbsp; c) Using the 'as' Keyword <br>\n",
    " &nbsp;&nbsp;&nbsp;&nbsp; d) Creating a Module <br>\n",
    "5) Exercises <br>\n",
    " &nbsp;&nbsp;&nbsp;&nbsp; a) Build a Shopping Cart <br>\n",
    " &nbsp;&nbsp;&nbsp;&nbsp; b) Create Your Own Module <br>"
   ]
  },
  {
   "cell_type": "markdown",
   "metadata": {},
   "source": [
    "## Dictionary <br>\n",
    "<p>A collection of data with 'key:value' pairs. Dictionaries are ordered as of Python 3.6</p>"
   ]
  },
  {
   "cell_type": "markdown",
   "metadata": {},
   "source": [
    "##### Declaring (key, value)"
   ]
  },
  {
   "cell_type": "code",
   "execution_count": 3,
   "metadata": {},
   "outputs": [],
   "source": [
    "# keys should be unique\n",
    "# can use numbers or strings as keys\n",
    "\n",
    "d_1 = {}\n",
    "\n",
    "#or\n",
    "\n",
    "d_2 = dict()\n",
    "\n",
    "d_3 = {\n",
    "    \"Tom\" : \"255 Main Street\",\n",
    "    \"Jerry\" : \"256 Main Street\", \n",
    "    0 : \"This is a value for the key of 0\"\n",
    "}"
   ]
  },
  {
   "cell_type": "markdown",
   "metadata": {},
   "source": [
    "##### Accessing Values"
   ]
  },
  {
   "cell_type": "code",
   "execution_count": 4,
   "metadata": {},
   "outputs": [
    {
     "name": "stdout",
     "output_type": "stream",
     "text": [
      "Hello\n"
     ]
    }
   ],
   "source": [
    "# dict[key]\n",
    "d_3[\"Jerry\"]\n",
    "\n"
   ]
  },
  {
   "cell_type": "markdown",
   "metadata": {},
   "source": [
    "## In-Class Exercise #1 - Print a formatted statement from the dictionary below <br>\n",
    "<p>The output should be '2018 Chevrolet Silverado'</p>"
   ]
  },
  {
   "cell_type": "code",
   "execution_count": 5,
   "metadata": {},
   "outputs": [
    {
     "name": "stdout",
     "output_type": "stream",
     "text": [
      "This is a 2018 Chevrolet Silverado\n"
     ]
    }
   ],
   "source": [
    "# use the dict below\n",
    "truck = {\n",
    "    \"year\": 2018,\n",
    "    'make': 'Chevrolet',\n",
    "    'model': 'Silverado'\n",
    "}\n",
    "\n",
    "print(f\"This is a\", truck[\"year\"], truck[\"make\"], truck[\"model\"])"
   ]
  },
  {
   "cell_type": "markdown",
   "metadata": {},
   "source": [
    "##### Adding New Pairs"
   ]
  },
  {
   "cell_type": "code",
   "execution_count": 6,
   "metadata": {},
   "outputs": [
    {
     "name": "stdout",
     "output_type": "stream",
     "text": [
      "{'Tom': '255 Main Street', 'Jerry': '256 Main Street', 0: 'This is a value for the key of 0', 'Spike': '257 Main Street'}\n"
     ]
    }
   ],
   "source": [
    "# dict[key] = value\n",
    "d_3[\"Spike\"] = \"257 Main Street\"\n",
    "\n",
    "print(d_3)"
   ]
  },
  {
   "cell_type": "markdown",
   "metadata": {},
   "source": [
    "##### Modifying Values"
   ]
  },
  {
   "cell_type": "code",
   "execution_count": 8,
   "metadata": {},
   "outputs": [
    {
     "data": {
      "text/plain": [
       "{'Tom': '255 Main Street',\n",
       " 'Jerry': '256 Main Street',\n",
       " 0: 'This is a value for the key of 0',\n",
       " 'Spike': '257 Main Street Chicago Illinois'}"
      ]
     },
     "execution_count": 8,
     "metadata": {},
     "output_type": "execute_result"
    }
   ],
   "source": [
    "# dict[key] = value\n",
    "placeholder = d_3[\"Spike\"]\n",
    "\n",
    "d_3[\"Spike\"] = placeholder + \" Chicago Illinois\"\n",
    "\n",
    "d_3"
   ]
  },
  {
   "cell_type": "markdown",
   "metadata": {},
   "source": [
    "##### Removing Key, Value Pairs"
   ]
  },
  {
   "cell_type": "code",
   "execution_count": 9,
   "metadata": {},
   "outputs": [
    {
     "data": {
      "text/plain": [
       "{'Tom': '255 Main Street',\n",
       " 'Jerry': '256 Main Street',\n",
       " 'Spike': '257 Main Street Chicago Illinois'}"
      ]
     },
     "execution_count": 9,
     "metadata": {},
     "output_type": "execute_result"
    }
   ],
   "source": [
    "# del dict[key]\n",
    "del d_3[0]\n",
    "\n",
    "d_3\n"
   ]
  },
  {
   "cell_type": "markdown",
   "metadata": {},
   "source": [
    "##### Looping a Dictionary"
   ]
  },
  {
   "cell_type": "code",
   "execution_count": 11,
   "metadata": {},
   "outputs": [
    {
     "name": "stdout",
     "output_type": "stream",
     "text": [
      "Tom : 255 Main Street\n",
      "Jerry : 256 Main Street\n",
      "Spike : 257 Main Street Chicago Illinois\n"
     ]
    }
   ],
   "source": [
    "# .items()\n",
    "# a, b, c = 1, 2, 3\n",
    "for name, address in d_3.items():\n",
    "    print(name, \":\", address)"
   ]
  },
  {
   "cell_type": "markdown",
   "metadata": {},
   "source": [
    "##### Looping Only Keys"
   ]
  },
  {
   "cell_type": "code",
   "execution_count": 12,
   "metadata": {},
   "outputs": [
    {
     "name": "stdout",
     "output_type": "stream",
     "text": [
      "Tom\n",
      "Jerry\n",
      "Spike\n"
     ]
    }
   ],
   "source": [
    "# .keys()\n",
    "for name in d_3:\n",
    "    print(name)"
   ]
  },
  {
   "cell_type": "markdown",
   "metadata": {},
   "source": [
    "##### Looping Only Values"
   ]
  },
  {
   "cell_type": "code",
   "execution_count": 13,
   "metadata": {},
   "outputs": [
    {
     "name": "stdout",
     "output_type": "stream",
     "text": [
      "['255 Main Street', '256 Main Street', '257 Main Street Chicago Illinois']\n"
     ]
    }
   ],
   "source": [
    "value_list = [val for val in d_3.values()]\n",
    "print(value_list)\n"
   ]
  },
  {
   "cell_type": "code",
   "execution_count": null,
   "metadata": {
    "scrolled": false
   },
   "outputs": [],
   "source": []
  },
  {
   "cell_type": "code",
   "execution_count": 9,
   "metadata": {
    "scrolled": true
   },
   "outputs": [],
   "source": [
    "# .values()\n"
   ]
  },
  {
   "cell_type": "markdown",
   "metadata": {},
   "source": [
    "## In-Class Exercise #2 - Create a Function that Prints All Key Value Pairs within a print .format() <br>\n",
    "<p><b>Output should be:</b><br>\n",
    "Max has blue eyes<br>\n",
    "Lilly has brown eyes<br>\n",
    "Barney has blue eyes<br>\n",
    "etc.\n",
    "</p>"
   ]
  },
  {
   "cell_type": "code",
   "execution_count": 18,
   "metadata": {},
   "outputs": [],
   "source": [
    "# use the dict below\n",
    "people = {\n",
    "    'Max': 'blue',\n",
    "    'Lilly': 'brown',\n",
    "    'Barney': 'blue',\n",
    "    'Larney': 'brown',\n",
    "    'Ted': 'purple'\n",
    "}\n",
    "\n",
    "def people_eye_color():\n",
    "    for key, value in people.items():\n",
    "        print(key + \" has \" + value + \" eyes.\")"
   ]
  },
  {
   "cell_type": "markdown",
   "metadata": {},
   "source": [
    "##### sorted()"
   ]
  },
  {
   "cell_type": "code",
   "execution_count": 19,
   "metadata": {},
   "outputs": [
    {
     "name": "stdout",
     "output_type": "stream",
     "text": [
      "['Barney', 'Larney', 'Lilly', 'Max', 'Ted']\n",
      "['blue', 'blue', 'brown', 'brown', 'purple']\n",
      "[('Barney', 'blue'), ('Larney', 'brown'), ('Lilly', 'brown'), ('Max', 'blue'), ('Ted', 'purple')]\n"
     ]
    }
   ],
   "source": [
    "# sorts variables in order\n",
    "# sorted(dict.values()) or dict.keys() or dict.items()\n",
    "print(sorted(people.keys()))\n",
    "print(sorted(people.values()))\n",
    "print(sorted(people.items()))"
   ]
  },
  {
   "cell_type": "markdown",
   "metadata": {},
   "source": [
    "##### List with Dictionaries"
   ]
  },
  {
   "cell_type": "code",
   "execution_count": 21,
   "metadata": {},
   "outputs": [
    {
     "name": "stdout",
     "output_type": "stream",
     "text": [
      "{'Random_Girl': 'Barb', 'Random_guy': 'Rob'}\n"
     ]
    }
   ],
   "source": [
    "names = [\"Dave\", \"Sandy\", \"Tony\", {\"Random_Girl\": \"Barb\", \"Random_guy\": \"Rob\"}]\n",
    "print(names[3])"
   ]
  },
  {
   "cell_type": "markdown",
   "metadata": {},
   "source": [
    "##### Dictionaries with Lists"
   ]
  },
  {
   "cell_type": "code",
   "execution_count": 12,
   "metadata": {},
   "outputs": [],
   "source": [
    "# be careful when using numbers as keys in dictionaries, don't confuse them with indexes\n",
    "\n"
   ]
  },
  {
   "cell_type": "markdown",
   "metadata": {},
   "source": [
    "##### Dictionaries with Dictionaries"
   ]
  },
  {
   "cell_type": "code",
   "execution_count": 42,
   "metadata": {},
   "outputs": [
    {
     "name": "stdout",
     "output_type": "stream",
     "text": [
      "Terrell favorite food groups are Terrell\n",
      "Terrell favorite food groups are Ryan\n",
      "Terrell favorite food groups are josh\n",
      "Terrell favorite food groups are Brad\n",
      "Terrell favorite food groups are Jackie\n",
      "Terrell favorite food groups are Michael Cook\n",
      "Terrell favorite food groups are Garrett\n",
      "Terrell favorite food groups are Alex\n",
      "Terrell favorite food groups are Jess\n",
      "Terrell favorite food groups are Hootie\n",
      "Terrell favorite food groups are Faiber\n",
      "Terrell favorite food groups are Dom\n",
      "Terrell favorite food groups are Dominic\n",
      "Ryan favorite food groups are Terrell\n",
      "Ryan favorite food groups are Ryan\n",
      "Ryan favorite food groups are josh\n",
      "Ryan favorite food groups are Brad\n",
      "Ryan favorite food groups are Jackie\n",
      "Ryan favorite food groups are Michael Cook\n",
      "Ryan favorite food groups are Garrett\n",
      "Ryan favorite food groups are Alex\n",
      "Ryan favorite food groups are Jess\n",
      "Ryan favorite food groups are Hootie\n",
      "Ryan favorite food groups are Faiber\n",
      "Ryan favorite food groups are Dom\n",
      "Ryan favorite food groups are Dominic\n",
      "josh favorite food groups are Terrell\n",
      "josh favorite food groups are Ryan\n",
      "josh favorite food groups are josh\n",
      "josh favorite food groups are Brad\n",
      "josh favorite food groups are Jackie\n",
      "josh favorite food groups are Michael Cook\n",
      "josh favorite food groups are Garrett\n",
      "josh favorite food groups are Alex\n",
      "josh favorite food groups are Jess\n",
      "josh favorite food groups are Hootie\n",
      "josh favorite food groups are Faiber\n",
      "josh favorite food groups are Dom\n",
      "josh favorite food groups are Dominic\n",
      "Brad favorite food groups are Terrell\n",
      "Brad favorite food groups are Ryan\n",
      "Brad favorite food groups are josh\n",
      "Brad favorite food groups are Brad\n",
      "Brad favorite food groups are Jackie\n",
      "Brad favorite food groups are Michael Cook\n",
      "Brad favorite food groups are Garrett\n",
      "Brad favorite food groups are Alex\n",
      "Brad favorite food groups are Jess\n",
      "Brad favorite food groups are Hootie\n",
      "Brad favorite food groups are Faiber\n",
      "Brad favorite food groups are Dom\n",
      "Brad favorite food groups are Dominic\n",
      "Jackie favorite food groups are Terrell\n",
      "Jackie favorite food groups are Ryan\n",
      "Jackie favorite food groups are josh\n",
      "Jackie favorite food groups are Brad\n",
      "Jackie favorite food groups are Jackie\n",
      "Jackie favorite food groups are Michael Cook\n",
      "Jackie favorite food groups are Garrett\n",
      "Jackie favorite food groups are Alex\n",
      "Jackie favorite food groups are Jess\n",
      "Jackie favorite food groups are Hootie\n",
      "Jackie favorite food groups are Faiber\n",
      "Jackie favorite food groups are Dom\n",
      "Jackie favorite food groups are Dominic\n",
      "Michael Cook favorite food groups are Terrell\n",
      "Michael Cook favorite food groups are Ryan\n",
      "Michael Cook favorite food groups are josh\n",
      "Michael Cook favorite food groups are Brad\n",
      "Michael Cook favorite food groups are Jackie\n",
      "Michael Cook favorite food groups are Michael Cook\n",
      "Michael Cook favorite food groups are Garrett\n",
      "Michael Cook favorite food groups are Alex\n",
      "Michael Cook favorite food groups are Jess\n",
      "Michael Cook favorite food groups are Hootie\n",
      "Michael Cook favorite food groups are Faiber\n",
      "Michael Cook favorite food groups are Dom\n",
      "Michael Cook favorite food groups are Dominic\n",
      "Garrett favorite food groups are Terrell\n",
      "Garrett favorite food groups are Ryan\n",
      "Garrett favorite food groups are josh\n",
      "Garrett favorite food groups are Brad\n",
      "Garrett favorite food groups are Jackie\n",
      "Garrett favorite food groups are Michael Cook\n",
      "Garrett favorite food groups are Garrett\n",
      "Garrett favorite food groups are Alex\n",
      "Garrett favorite food groups are Jess\n",
      "Garrett favorite food groups are Hootie\n",
      "Garrett favorite food groups are Faiber\n",
      "Garrett favorite food groups are Dom\n",
      "Garrett favorite food groups are Dominic\n",
      "Alex favorite food groups are Terrell\n",
      "Alex favorite food groups are Ryan\n",
      "Alex favorite food groups are josh\n",
      "Alex favorite food groups are Brad\n",
      "Alex favorite food groups are Jackie\n",
      "Alex favorite food groups are Michael Cook\n",
      "Alex favorite food groups are Garrett\n",
      "Alex favorite food groups are Alex\n",
      "Alex favorite food groups are Jess\n",
      "Alex favorite food groups are Hootie\n",
      "Alex favorite food groups are Faiber\n",
      "Alex favorite food groups are Dom\n",
      "Alex favorite food groups are Dominic\n",
      "Jess favorite food groups are Terrell\n",
      "Jess favorite food groups are Ryan\n",
      "Jess favorite food groups are josh\n",
      "Jess favorite food groups are Brad\n",
      "Jess favorite food groups are Jackie\n",
      "Jess favorite food groups are Michael Cook\n",
      "Jess favorite food groups are Garrett\n",
      "Jess favorite food groups are Alex\n",
      "Jess favorite food groups are Jess\n",
      "Jess favorite food groups are Hootie\n",
      "Jess favorite food groups are Faiber\n",
      "Jess favorite food groups are Dom\n",
      "Jess favorite food groups are Dominic\n",
      "Hootie favorite food groups are Terrell\n",
      "Hootie favorite food groups are Ryan\n",
      "Hootie favorite food groups are josh\n",
      "Hootie favorite food groups are Brad\n",
      "Hootie favorite food groups are Jackie\n",
      "Hootie favorite food groups are Michael Cook\n",
      "Hootie favorite food groups are Garrett\n",
      "Hootie favorite food groups are Alex\n",
      "Hootie favorite food groups are Jess\n",
      "Hootie favorite food groups are Hootie\n",
      "Hootie favorite food groups are Faiber\n",
      "Hootie favorite food groups are Dom\n",
      "Hootie favorite food groups are Dominic\n",
      "Faiber favorite food groups are Terrell\n",
      "Faiber favorite food groups are Ryan\n",
      "Faiber favorite food groups are josh\n",
      "Faiber favorite food groups are Brad\n",
      "Faiber favorite food groups are Jackie\n",
      "Faiber favorite food groups are Michael Cook\n",
      "Faiber favorite food groups are Garrett\n",
      "Faiber favorite food groups are Alex\n",
      "Faiber favorite food groups are Jess\n",
      "Faiber favorite food groups are Hootie\n",
      "Faiber favorite food groups are Faiber\n",
      "Faiber favorite food groups are Dom\n",
      "Faiber favorite food groups are Dominic\n",
      "Dom favorite food groups are Terrell\n",
      "Dom favorite food groups are Ryan\n",
      "Dom favorite food groups are josh\n",
      "Dom favorite food groups are Brad\n",
      "Dom favorite food groups are Jackie\n",
      "Dom favorite food groups are Michael Cook\n",
      "Dom favorite food groups are Garrett\n",
      "Dom favorite food groups are Alex\n",
      "Dom favorite food groups are Jess\n",
      "Dom favorite food groups are Hootie\n",
      "Dom favorite food groups are Faiber\n",
      "Dom favorite food groups are Dom\n",
      "Dom favorite food groups are Dominic\n",
      "Dominic favorite food groups are Terrell\n",
      "Dominic favorite food groups are Ryan\n",
      "Dominic favorite food groups are josh\n",
      "Dominic favorite food groups are Brad\n",
      "Dominic favorite food groups are Jackie\n",
      "Dominic favorite food groups are Michael Cook\n",
      "Dominic favorite food groups are Garrett\n",
      "Dominic favorite food groups are Alex\n",
      "Dominic favorite food groups are Jess\n",
      "Dominic favorite food groups are Hootie\n",
      "Dominic favorite food groups are Faiber\n",
      "Dominic favorite food groups are Dom\n",
      "Dominic favorite food groups are Dominic\n"
     ]
    }
   ],
   "source": [
    "# to get values, must traverse through keys\n",
    "\n",
    "food_dict = {\n",
    "    \"Terrell\": {\n",
    "        \"Latin\": ['Taco','Arepa','Empanada'],\n",
    "        'noodles': ['instant','Pho','Ramen']\n",
    "    },\n",
    "     \"Ryan\": {\n",
    "        \"Latin\": [\"Tacos\",'Tacos','Tacos'],\n",
    "        \"Desserts\": [\"pie\",'ice cream','cookies']\n",
    "    },\n",
    "    \"josh\": {\n",
    "        \"latin\": ['Taco','quesadilla','torta'],\n",
    "        'noodles': ['vermacelli','Pho','tsukemen']\n",
    "    },\n",
    "    \"Brad\": {\n",
    "        \"Mexican\": ['Taco', 'Burrito'],\n",
    "        \"Desserts\": ['ice cream', 'cookies']\n",
    "    },\n",
    "    \"Jackie\": {\n",
    "        \"Latin\": [\"Tacos\",'Quesadillas','Papusas'],\n",
    "        \"Asian\": [\"Pho\", 'KBBQ','Hot Pot']\n",
    "    },\n",
    "    \"Michael Cook\": {\n",
    "        \"Bread\": [\"Foccacia\", \"Boule\", \"Joe\"],\n",
    "        \"noodles\": [\"linguini\", \"farfale\", \"elbow\"]\n",
    "    },\n",
    "    \"Garrett\": {\n",
    "        \"Asain\": [\"drunken noodles\", 'sushi', 'pad thia', 'chow mein'],\n",
    "        \"Mexican\" : [\"taco\", \"quesidilla\", \"chimichanga\"],\n",
    "        \"American\" : [\"hamburger\", \"beer\", \"fries\", \"cheese steak\"]\n",
    "    },\n",
    "    \"Alex\" : {\n",
    "        \"latin\" : ['Papusas', 'Tomales', 'Taco'],\n",
    "        \"noodles\" : ['Ramen', 'Pho', 'Spaghetti']\n",
    "    },\n",
    "    \"Jess\": {\n",
    "        \"Latin\": [\"Burrito\",'Arepa','Empanadas'],\n",
    "        \"American\": [\"Chicken Salad\",'Chicken Sandwich','fries']\n",
    "    },\n",
    "    \"Hootie\": {\n",
    "        \"latin\": [\"coxhinas\", \"burritos\", \"qusadilla\"],\n",
    "        \"italian\": [\"spaghetti\", \"nno pasta\", \"meatballs\"]\n",
    "    },\n",
    "    'Faiber' : {\n",
    "        'latin' : ['Burrito','Emapanadas','Taquitos'],\n",
    "        'Bakes' : ['Bunuleos','Pan de Yuca','Pandebono']\n",
    "    },\n",
    "    \"Dom\" : {\n",
    "        \"italian\": ['filled pasta','sausage','cannoli'],\n",
    "        'midwestern':['corn','corn','corn']\n",
    "    },\n",
    "    \"Dominic\":{\n",
    "    \"Italian\":['Pizza','Ravioli','Tortellini'],\n",
    "    \"Mexican\":['Tacos','enchilada']\n",
    "}\n",
    "}\n",
    "\n",
    "# for name, food_group in food_dict.items():\n",
    "#         print(name, \" likes to eat \", food_group)\n",
    "#         for cuisine, food_name in food_group.items():\n",
    "#             print(cuisine, food_name)\n",
    "\n",
    "# for name, value in food_dict.items():\n",
    "#     print(name, \"likes to eat \", value)\n",
    "#     for food in food_dict[name].items():\n",
    "#         print(food)\n",
    "\n",
    "for name, food in food_dict.items():\n",
    "    for food_type in food_dict.keys():\n",
    "        print(name, \"favorite food groups are\", food_type)"
   ]
  },
  {
   "cell_type": "code",
   "execution_count": null,
   "metadata": {},
   "outputs": [],
   "source": []
  },
  {
   "cell_type": "code",
   "execution_count": null,
   "metadata": {},
   "outputs": [],
   "source": []
  },
  {
   "cell_type": "markdown",
   "metadata": {},
   "source": [
    "## Dictionaries vs. Lists (over time) Example of RUNTIME\n",
    "### When inputting values in a Dictionary vs List"
   ]
  },
  {
   "cell_type": "code",
   "execution_count": 43,
   "metadata": {},
   "outputs": [],
   "source": [
    "import time\n",
    "#generate a dictionary\n",
    "d = {}\n",
    "\n",
    "for i in range(10000000):\n",
    "    d[i] = \"value \" + str(i)\n",
    "\n",
    "#generate a list\n",
    "big_list = [x for x in range(10000000)]\n"
   ]
  },
  {
   "cell_type": "code",
   "execution_count": 45,
   "metadata": {},
   "outputs": [
    {
     "name": "stdout",
     "output_type": "stream",
     "text": [
      "value 9999999\n",
      "Elapsed time for dictionary: 0.0\n",
      "9999999\n",
      "Elapsed time for list: 0.46227240562438965\n"
     ]
    }
   ],
   "source": [
    "#track the time for the dictionary\n",
    "start_time = time.time()\n",
    "print(d[9999999])\n",
    "\n",
    "end_time = time.time() - start_time\n",
    "print(f\"Elapsed time for dictionary: {end_time}\")\n",
    "\n",
    "#Track time for the list\n",
    "start_time = time.time()\n",
    "for i in range(len(big_list)):\n",
    "    if i == 9999999:\n",
    "        print(i)\n",
    "end_time = time.time() - start_time\n",
    "print(f\"Elapsed time for list: {end_time}\")"
   ]
  },
  {
   "cell_type": "markdown",
   "metadata": {},
   "source": [
    "## Exercise #3 - Write a Function that asks someone's name and address, and then stores that into a dictionary, and continues to do so until they choose to 'quit'. Once they quit, the program should print all names and addresses. <br>\n",
    "<p>\n",
    "<b>Proper steps:</b><br>\n",
    "step 1: write a function that takes in information and stores it in a dictionary<br>\n",
    "step 2: define an empty dictionary to work with<br>\n",
    "step 3: create our loop, which asks the user for information until they quit<br>\n",
    "step 4: ask for the information, and store it into variables<br>\n",
    "step 5: check if the user types quit<br>\n",
    "step 5a: print out all information<br>\n",
    "step 5b: break out of the loop<br>\n",
    "step 6: if they didn't quit, add the information to the dictionary<br>\n",
    "step 7: invoke the function by calling it\n",
    "</p>"
   ]
  },
  {
   "cell_type": "code",
   "execution_count": 4,
   "metadata": {},
   "outputs": [
    {
     "ename": "KeyboardInterrupt",
     "evalue": "Interrupted by user",
     "output_type": "error",
     "traceback": [
      "\u001b[1;31m---------------------------------------------------------------------------\u001b[0m",
      "\u001b[1;31mKeyboardInterrupt\u001b[0m                         Traceback (most recent call last)",
      "\u001b[1;32mc:\\Users\\Administrator\\Documents\\coding_temple\\coding_temple_rangers_87\\week_2\\day_3\\Wednesday_Lesson_Inclass-Updated-Lecture_Rangers87.ipynb Cell 40'\u001b[0m in \u001b[0;36m<cell line: 13>\u001b[1;34m()\u001b[0m\n\u001b[0;32m     <a href='vscode-notebook-cell:/c%3A/Users/Administrator/Documents/coding_temple/coding_temple_rangers_87/week_2/day_3/Wednesday_Lesson_Inclass-Updated-Lecture_Rangers87.ipynb#ch0000039?line=9'>10</a>\u001b[0m             a_dict \u001b[39m=\u001b[39m {dessert}\n\u001b[0;32m     <a href='vscode-notebook-cell:/c%3A/Users/Administrator/Documents/coding_temple/coding_temple_rangers_87/week_2/day_3/Wednesday_Lesson_Inclass-Updated-Lecture_Rangers87.ipynb#ch0000039?line=11'>12</a>\u001b[0m \u001b[39m#Step 7\u001b[39;00m\n\u001b[1;32m---> <a href='vscode-notebook-cell:/c%3A/Users/Administrator/Documents/coding_temple/coding_temple_rangers_87/week_2/day_3/Wednesday_Lesson_Inclass-Updated-Lecture_Rangers87.ipynb#ch0000039?line=12'>13</a>\u001b[0m storeInfo()\n",
      "\u001b[1;32mc:\\Users\\Administrator\\Documents\\coding_temple\\coding_temple_rangers_87\\week_2\\day_3\\Wednesday_Lesson_Inclass-Updated-Lecture_Rangers87.ipynb Cell 40'\u001b[0m in \u001b[0;36mstoreInfo\u001b[1;34m()\u001b[0m\n\u001b[0;32m      <a href='vscode-notebook-cell:/c%3A/Users/Administrator/Documents/coding_temple/coding_temple_rangers_87/week_2/day_3/Wednesday_Lesson_Inclass-Updated-Lecture_Rangers87.ipynb#ch0000039?line=3'>4</a>\u001b[0m \u001b[39m#Step 2\u001b[39;00m\n\u001b[0;32m      <a href='vscode-notebook-cell:/c%3A/Users/Administrator/Documents/coding_temple/coding_temple_rangers_87/week_2/day_3/Wednesday_Lesson_Inclass-Updated-Lecture_Rangers87.ipynb#ch0000039?line=4'>5</a>\u001b[0m \u001b[39mwhile\u001b[39;00m \u001b[39mTrue\u001b[39;00m:\n\u001b[1;32m----> <a href='vscode-notebook-cell:/c%3A/Users/Administrator/Documents/coding_temple/coding_temple_rangers_87/week_2/day_3/Wednesday_Lesson_Inclass-Updated-Lecture_Rangers87.ipynb#ch0000039?line=5'>6</a>\u001b[0m     dessert \u001b[39m=\u001b[39m \u001b[39minput\u001b[39;49m(\u001b[39m\"\u001b[39;49m\u001b[39mEnter your favorite dessert, or type quit to exit: \u001b[39;49m\u001b[39m\"\u001b[39;49m)\n\u001b[0;32m      <a href='vscode-notebook-cell:/c%3A/Users/Administrator/Documents/coding_temple/coding_temple_rangers_87/week_2/day_3/Wednesday_Lesson_Inclass-Updated-Lecture_Rangers87.ipynb#ch0000039?line=6'>7</a>\u001b[0m     \u001b[39mif\u001b[39;00m dessert \u001b[39m==\u001b[39m \u001b[39m\"\u001b[39m\u001b[39mquit\u001b[39m\u001b[39m\"\u001b[39m:\n\u001b[0;32m      <a href='vscode-notebook-cell:/c%3A/Users/Administrator/Documents/coding_temple/coding_temple_rangers_87/week_2/day_3/Wednesday_Lesson_Inclass-Updated-Lecture_Rangers87.ipynb#ch0000039?line=7'>8</a>\u001b[0m         \u001b[39mbreak\u001b[39;00m\n",
      "File \u001b[1;32m~\\AppData\\Roaming\\Python\\Python39\\site-packages\\ipykernel\\kernelbase.py:1076\u001b[0m, in \u001b[0;36mKernel.raw_input\u001b[1;34m(self, prompt)\u001b[0m\n\u001b[0;32m   <a href='file:///c%3A/Users/Administrator/AppData/Roaming/Python/Python39/site-packages/ipykernel/kernelbase.py?line=1071'>1072</a>\u001b[0m \u001b[39mif\u001b[39;00m \u001b[39mnot\u001b[39;00m \u001b[39mself\u001b[39m\u001b[39m.\u001b[39m_allow_stdin:\n\u001b[0;32m   <a href='file:///c%3A/Users/Administrator/AppData/Roaming/Python/Python39/site-packages/ipykernel/kernelbase.py?line=1072'>1073</a>\u001b[0m     \u001b[39mraise\u001b[39;00m StdinNotImplementedError(\n\u001b[0;32m   <a href='file:///c%3A/Users/Administrator/AppData/Roaming/Python/Python39/site-packages/ipykernel/kernelbase.py?line=1073'>1074</a>\u001b[0m         \u001b[39m\"\u001b[39m\u001b[39mraw_input was called, but this frontend does not support input requests.\u001b[39m\u001b[39m\"\u001b[39m\n\u001b[0;32m   <a href='file:///c%3A/Users/Administrator/AppData/Roaming/Python/Python39/site-packages/ipykernel/kernelbase.py?line=1074'>1075</a>\u001b[0m     )\n\u001b[1;32m-> <a href='file:///c%3A/Users/Administrator/AppData/Roaming/Python/Python39/site-packages/ipykernel/kernelbase.py?line=1075'>1076</a>\u001b[0m \u001b[39mreturn\u001b[39;00m \u001b[39mself\u001b[39;49m\u001b[39m.\u001b[39;49m_input_request(\n\u001b[0;32m   <a href='file:///c%3A/Users/Administrator/AppData/Roaming/Python/Python39/site-packages/ipykernel/kernelbase.py?line=1076'>1077</a>\u001b[0m     \u001b[39mstr\u001b[39;49m(prompt),\n\u001b[0;32m   <a href='file:///c%3A/Users/Administrator/AppData/Roaming/Python/Python39/site-packages/ipykernel/kernelbase.py?line=1077'>1078</a>\u001b[0m     \u001b[39mself\u001b[39;49m\u001b[39m.\u001b[39;49m_parent_ident[\u001b[39m\"\u001b[39;49m\u001b[39mshell\u001b[39;49m\u001b[39m\"\u001b[39;49m],\n\u001b[0;32m   <a href='file:///c%3A/Users/Administrator/AppData/Roaming/Python/Python39/site-packages/ipykernel/kernelbase.py?line=1078'>1079</a>\u001b[0m     \u001b[39mself\u001b[39;49m\u001b[39m.\u001b[39;49mget_parent(\u001b[39m\"\u001b[39;49m\u001b[39mshell\u001b[39;49m\u001b[39m\"\u001b[39;49m),\n\u001b[0;32m   <a href='file:///c%3A/Users/Administrator/AppData/Roaming/Python/Python39/site-packages/ipykernel/kernelbase.py?line=1079'>1080</a>\u001b[0m     password\u001b[39m=\u001b[39;49m\u001b[39mFalse\u001b[39;49;00m,\n\u001b[0;32m   <a href='file:///c%3A/Users/Administrator/AppData/Roaming/Python/Python39/site-packages/ipykernel/kernelbase.py?line=1080'>1081</a>\u001b[0m )\n",
      "File \u001b[1;32m~\\AppData\\Roaming\\Python\\Python39\\site-packages\\ipykernel\\kernelbase.py:1121\u001b[0m, in \u001b[0;36mKernel._input_request\u001b[1;34m(self, prompt, ident, parent, password)\u001b[0m\n\u001b[0;32m   <a href='file:///c%3A/Users/Administrator/AppData/Roaming/Python/Python39/site-packages/ipykernel/kernelbase.py?line=1117'>1118</a>\u001b[0m             \u001b[39mbreak\u001b[39;00m\n\u001b[0;32m   <a href='file:///c%3A/Users/Administrator/AppData/Roaming/Python/Python39/site-packages/ipykernel/kernelbase.py?line=1118'>1119</a>\u001b[0m \u001b[39mexcept\u001b[39;00m \u001b[39mKeyboardInterrupt\u001b[39;00m:\n\u001b[0;32m   <a href='file:///c%3A/Users/Administrator/AppData/Roaming/Python/Python39/site-packages/ipykernel/kernelbase.py?line=1119'>1120</a>\u001b[0m     \u001b[39m# re-raise KeyboardInterrupt, to truncate traceback\u001b[39;00m\n\u001b[1;32m-> <a href='file:///c%3A/Users/Administrator/AppData/Roaming/Python/Python39/site-packages/ipykernel/kernelbase.py?line=1120'>1121</a>\u001b[0m     \u001b[39mraise\u001b[39;00m \u001b[39mKeyboardInterrupt\u001b[39;00m(\u001b[39m\"\u001b[39m\u001b[39mInterrupted by user\u001b[39m\u001b[39m\"\u001b[39m) \u001b[39mfrom\u001b[39;00m \u001b[39mNone\u001b[39m\n\u001b[0;32m   <a href='file:///c%3A/Users/Administrator/AppData/Roaming/Python/Python39/site-packages/ipykernel/kernelbase.py?line=1121'>1122</a>\u001b[0m \u001b[39mexcept\u001b[39;00m \u001b[39mException\u001b[39;00m:\n\u001b[0;32m   <a href='file:///c%3A/Users/Administrator/AppData/Roaming/Python/Python39/site-packages/ipykernel/kernelbase.py?line=1122'>1123</a>\u001b[0m     \u001b[39mself\u001b[39m\u001b[39m.\u001b[39mlog\u001b[39m.\u001b[39mwarning(\u001b[39m\"\u001b[39m\u001b[39mInvalid Message:\u001b[39m\u001b[39m\"\u001b[39m, exc_info\u001b[39m=\u001b[39m\u001b[39mTrue\u001b[39;00m)\n",
      "\u001b[1;31mKeyboardInterrupt\u001b[0m: Interrupted by user"
     ]
    }
   ],
   "source": [
    "\n",
    "\n",
    "# Step 1\n",
    "def storeInfo():\n",
    "    a_dict = {}\n",
    "    #Step 2\n",
    "    while True:\n",
    "        dessert = input(\"Enter your favorite dessert, or type quit to exit: \")\n",
    "        if dessert == \"quit\":\n",
    "            break\n",
    "        else: \n",
    "            a_dict = {dessert}\n",
    "\n",
    "#Step 7\n",
    "storeInfo()            "
   ]
  },
  {
   "cell_type": "markdown",
   "metadata": {},
   "source": [
    "## Set <br>\n",
    "<p>A Set is an unordered collection data type that is iterable (loop), mutable, and has no duplicate elements.<br>Major advantage is that it is highly optimized in checking if something is in the set, as opposed to checking if something is in a list.</p>"
   ]
  },
  {
   "cell_type": "markdown",
   "metadata": {},
   "source": [
    "##### Declaring"
   ]
  },
  {
   "cell_type": "code",
   "execution_count": null,
   "metadata": {},
   "outputs": [],
   "source": [
    "# set()\n",
    "# no order {3, 2, 1} outputs as {1, 2, 3}\n",
    "nums = set()"
   ]
  },
  {
   "cell_type": "markdown",
   "metadata": {},
   "source": [
    "##### .add()"
   ]
  },
  {
   "cell_type": "code",
   "execution_count": 6,
   "metadata": {},
   "outputs": [
    {
     "ename": "NameError",
     "evalue": "name 'nums' is not defined",
     "output_type": "error",
     "traceback": [
      "\u001b[1;31m---------------------------------------------------------------------------\u001b[0m",
      "\u001b[1;31mNameError\u001b[0m                                 Traceback (most recent call last)",
      "\u001b[1;32mc:\\Users\\Administrator\\Documents\\coding_temple\\coding_temple_rangers_87\\week_2\\day_3\\Wednesday_Lesson_Inclass-Updated-Lecture_Rangers87.ipynb Cell 45'\u001b[0m in \u001b[0;36m<cell line: 2>\u001b[1;34m()\u001b[0m\n\u001b[0;32m      <a href='vscode-notebook-cell:/c%3A/Users/Administrator/Documents/coding_temple/coding_temple_rangers_87/week_2/day_3/Wednesday_Lesson_Inclass-Updated-Lecture_Rangers87.ipynb#ch0000044?line=0'>1</a>\u001b[0m \u001b[39m# set.add()\u001b[39;00m\n\u001b[1;32m----> <a href='vscode-notebook-cell:/c%3A/Users/Administrator/Documents/coding_temple/coding_temple_rangers_87/week_2/day_3/Wednesday_Lesson_Inclass-Updated-Lecture_Rangers87.ipynb#ch0000044?line=1'>2</a>\u001b[0m nums\u001b[39m.\u001b[39madd(\u001b[39m22\u001b[39m)\n\u001b[0;32m      <a href='vscode-notebook-cell:/c%3A/Users/Administrator/Documents/coding_temple/coding_temple_rangers_87/week_2/day_3/Wednesday_Lesson_Inclass-Updated-Lecture_Rangers87.ipynb#ch0000044?line=2'>3</a>\u001b[0m \u001b[39mprint\u001b[39m(nums)\n",
      "\u001b[1;31mNameError\u001b[0m: name 'nums' is not defined"
     ]
    }
   ],
   "source": [
    "# set.add()\n",
    "nums.add(22)\n",
    "print(nums)"
   ]
  },
  {
   "cell_type": "markdown",
   "metadata": {},
   "source": [
    "##### .remove()"
   ]
  },
  {
   "cell_type": "code",
   "execution_count": null,
   "metadata": {},
   "outputs": [],
   "source": [
    "# removes by value\n",
    "# set.remove()\n",
    "# nums.remove(56)\n",
    "nums.remove(22)\n",
    "print(nums)"
   ]
  },
  {
   "cell_type": "markdown",
   "metadata": {},
   "source": [
    "##### .union() "
   ]
  },
  {
   "cell_type": "code",
   "execution_count": 7,
   "metadata": {},
   "outputs": [
    {
     "name": "stdout",
     "output_type": "stream",
     "text": [
      "{1, 2, 3, 4, 5, 6}\n",
      "{1, 2, 3, 4, 5, 6}\n"
     ]
    }
   ],
   "source": [
    "# Returns a union of two sets, can also use '|' or set.union(set)\n",
    "# joins all numbers, gets rid of duplicates\n",
    "s1 = {1,2,3,4}\n",
    "s2 = {3,4,5,6}\n",
    "\n",
    "s3 = s1.union(s2)\n",
    "\n",
    "#or\n",
    "s4 = s1 | s2\n",
    "\n",
    "print(s3)\n",
    "print(s4)\n"
   ]
  },
  {
   "cell_type": "markdown",
   "metadata": {},
   "source": [
    "##### .intersection()"
   ]
  },
  {
   "cell_type": "code",
   "execution_count": 8,
   "metadata": {},
   "outputs": [
    {
     "name": "stdout",
     "output_type": "stream",
     "text": [
      "{3, 4}\n",
      "{3, 4}\n"
     ]
    }
   ],
   "source": [
    "# Returns an intersection of two sets, can also use '&'\n",
    "# only takes similar elements from both sets\n",
    "s5 = s1.intersection(s2)\n",
    "\n",
    "print(s5)\n",
    "\n",
    "s6 = s1 & s2\n",
    "print(s6)"
   ]
  },
  {
   "cell_type": "markdown",
   "metadata": {},
   "source": [
    "##### .difference()"
   ]
  },
  {
   "cell_type": "code",
   "execution_count": 9,
   "metadata": {},
   "outputs": [
    {
     "name": "stdout",
     "output_type": "stream",
     "text": [
      "{1, 2}\n",
      "{1, 2}\n"
     ]
    }
   ],
   "source": [
    "# Returns a set containing all the elements of invoking set that are not in the second set, can also use '-'\n",
    "# only takes values from the first set that are not in the second set\n",
    "# order matters\n",
    "s7 = s1.difference(s2)\n",
    "print(s7)\n",
    "\n",
    "s8 = s1 - s2\n",
    "print(s8)\n"
   ]
  },
  {
   "cell_type": "markdown",
   "metadata": {},
   "source": [
    "##### .clear()"
   ]
  },
  {
   "cell_type": "code",
   "execution_count": null,
   "metadata": {},
   "outputs": [],
   "source": [
    "# Empties the whole set\n",
    "# set.clear()\n",
    "s8.clear()\n",
    "print(s8)\n"
   ]
  },
  {
   "cell_type": "code",
   "execution_count": null,
   "metadata": {},
   "outputs": [],
   "source": []
  },
  {
   "cell_type": "markdown",
   "metadata": {},
   "source": [
    "##### Frozenset <br>\n",
    "<p>Frozen sets are immutable objects that only support methods and operators that produce a result without affecting the frozen set or sets to which they are applied.</p><br><b>Unique & Immutable</b>"
   ]
  },
  {
   "cell_type": "code",
   "execution_count": 11,
   "metadata": {},
   "outputs": [
    {
     "name": "stdout",
     "output_type": "stream",
     "text": [
      "frozenset({1, 2, 3, 4, 5, 6})\n"
     ]
    }
   ],
   "source": [
    "# frozenset([])\n",
    "my_frozen_set = frozenset(s3)\n",
    "print(my_frozen_set)\n"
   ]
  },
  {
   "cell_type": "markdown",
   "metadata": {},
   "source": [
    "## Modules"
   ]
  },
  {
   "cell_type": "markdown",
   "metadata": {},
   "source": [
    "##### Importing Entire Modules"
   ]
  },
  {
   "cell_type": "code",
   "execution_count": null,
   "metadata": {},
   "outputs": [],
   "source": [
    "# import \n",
    "# or \n",
    "# from 'xxx' import *\n",
    "import math\n",
    "\n",
    "print(math.pi)\n",
    "\n"
   ]
  },
  {
   "cell_type": "markdown",
   "metadata": {},
   "source": [
    "##### Importing Methods Only"
   ]
  },
  {
   "cell_type": "code",
   "execution_count": null,
   "metadata": {},
   "outputs": [],
   "source": [
    "# from 'xxx' import 'xxx'\n",
    "\n",
    "from math import floor, pi\n",
    "print(floor(pi))\n",
    "\n"
   ]
  },
  {
   "cell_type": "markdown",
   "metadata": {},
   "source": [
    "##### Using the 'as' Keyword"
   ]
  },
  {
   "cell_type": "code",
   "execution_count": 12,
   "metadata": {},
   "outputs": [
    {
     "name": "stdout",
     "output_type": "stream",
     "text": [
      "3\n"
     ]
    }
   ],
   "source": [
    "# from 'xxx' import 'xxx' as 'xxx' or import 'xxx' as 'xxx'\n",
    "# from math import floor as f\n",
    "from math import floor as f, pi as p\n",
    "\n",
    "print(f(p))\n"
   ]
  },
  {
   "cell_type": "markdown",
   "metadata": {},
   "source": [
    "##### Creating a Module"
   ]
  },
  {
   "cell_type": "code",
   "execution_count": 13,
   "metadata": {},
   "outputs": [
    {
     "ename": "ModuleNotFoundError",
     "evalue": "No module named 'module'",
     "output_type": "error",
     "traceback": [
      "\u001b[1;31m---------------------------------------------------------------------------\u001b[0m",
      "\u001b[1;31mModuleNotFoundError\u001b[0m                       Traceback (most recent call last)",
      "\u001b[1;32mc:\\Users\\Administrator\\Documents\\coding_temple\\coding_temple_rangers_87\\week_2\\day_3\\Wednesday_Lesson_Inclass-Updated-Lecture_Rangers87.ipynb Cell 67'\u001b[0m in \u001b[0;36m<cell line: 1>\u001b[1;34m()\u001b[0m\n\u001b[1;32m----> <a href='vscode-notebook-cell:/c%3A/Users/Administrator/Documents/coding_temple/coding_temple_rangers_87/week_2/day_3/Wednesday_Lesson_Inclass-Updated-Lecture_Rangers87.ipynb#ch0000066?line=0'>1</a>\u001b[0m \u001b[39mfrom\u001b[39;00m \u001b[39mmodule\u001b[39;00m \u001b[39mimport\u001b[39;00m printName \u001b[39mas\u001b[39;00m pn\n\u001b[0;32m      <a href='vscode-notebook-cell:/c%3A/Users/Administrator/Documents/coding_temple/coding_temple_rangers_87/week_2/day_3/Wednesday_Lesson_Inclass-Updated-Lecture_Rangers87.ipynb#ch0000066?line=2'>3</a>\u001b[0m pn(\u001b[39m\"\u001b[39m\u001b[39mDennis\u001b[39m\u001b[39m\"\u001b[39m)\n",
      "\u001b[1;31mModuleNotFoundError\u001b[0m: No module named 'module'"
     ]
    }
   ],
   "source": [
    "from module import printName as pn\n",
    "\n",
    "pn(\"Dennis\")"
   ]
  },
  {
   "cell_type": "markdown",
   "metadata": {},
   "source": [
    "# Exercises"
   ]
  },
  {
   "cell_type": "markdown",
   "metadata": {},
   "source": [
    "### 1) Build a Shopping Cart <br>\n",
    "<p><b>You can use either lists or dictionaries. The program should have the following capabilities:</b><br><br>\n",
    "1) Takes in input <br>\n",
    "2) Stores user input into a dictionary or list <br>\n",
    "3) The User can add or delete items <br>\n",
    "4) The User can see current shopping list <br>\n",
    "5) The program Loops until user 'quits' <br>\n",
    "6) Upon quiting the program, print out all items in the user's list <br>\n",
    "</p>"
   ]
  },
  {
   "cell_type": "code",
   "execution_count": 12,
   "metadata": {},
   "outputs": [
    {
     "name": "stdout",
     "output_type": "stream",
     "text": [
      "{} is your current order\n",
      "{} is your current order\n",
      "{'A': '1', 'B': '2', 'C': '3', 'D': '4', 'E': '5'} is your current order\n",
      "{'A': '1', 'B': '2', 'C': '3', 'D': '4', 'E': '5'} is your current order\n",
      "{'B': '2', 'C': '3', 'D': '4', 'E': '5'} is your current order\n",
      "{'B': '2', 'C': '3', 'D': '4', 'E': '5'} is your current order\n",
      "{'B': '2', 'C': '3', 'D': '4', 'E': '5'} is the final shopping cart\n"
     ]
    }
   ],
   "source": [
    "from IPython.display import clear_output\n",
    "\n",
    "# Ask the user four bits of input: Do you want to : Show/Add/Delete or Quit?\n",
    "def shopping_cart():\n",
    "    cart_dict = {}\n",
    "    while True:\n",
    "        initial_input = input(\"Please Enter One of the Following Show[S], Add[A], Delete[D], or Quit[Q]: \")\n",
    "        if initial_input == \"S\":\n",
    "            print(f\"{cart_dict} is your current order\")\n",
    "        elif initial_input == \"A\":\n",
    "            item = input(\"Enter Item: \")\n",
    "            price = input(\"Enter Price: \")\n",
    "            cart_dict[item] = price\n",
    "        elif initial_input == \"D\":\n",
    "            item_delete = input(\"Enter Item Name on Receipt: \")\n",
    "            del cart_dict[item_delete]\n",
    "        elif initial_input == \"Q\":\n",
    "            print(f\"{cart_dict} is the final shopping cart\")\n",
    "            break\n",
    "        else:\n",
    "            print(\"Invalid Input\")\n",
    "\n",
    "shopping_cart()"
   ]
  },
  {
   "cell_type": "markdown",
   "metadata": {},
   "source": [
    "### 2) Create a Module in VS Code and Import It into jupyter notebook <br>\n",
    "<p><b>Module should have the following capabilities:</b><br><br>\n",
    "1) Has a function to calculate the square footage of a house <br>\n",
    "    <b>Reminder of Formula: Length X Width == Area<br>\n",
    "        <hr>\n",
    "2) Has a function to calculate the circumference of a circle <br><br>\n",
    "<b>Program in Jupyter Notebook should take in user input and use imported functions to calculate a circle's circumference or a houses square footage</b>\n",
    "</p>"
   ]
  },
  {
   "cell_type": "code",
   "execution_count": null,
   "metadata": {},
   "outputs": [],
   "source": [
    "def area(width, length):\n",
    "    product = width * height\n",
    "    print(product)\n",
    "\n",
    "def circumference(radius):\n",
    "    circle = 2*3.14*radius\n",
    "    print(circle)\n",
    "\n",
    "    "
   ]
  }
 ],
 "metadata": {
  "kernelspec": {
   "display_name": "Python 3",
   "language": "python",
   "name": "python3"
  },
  "language_info": {
   "codemirror_mode": {
    "name": "ipython",
    "version": 3
   },
   "file_extension": ".py",
   "mimetype": "text/x-python",
   "name": "python",
   "nbconvert_exporter": "python",
   "pygments_lexer": "ipython3",
   "version": "3.9.7"
  }
 },
 "nbformat": 4,
 "nbformat_minor": 2
}
